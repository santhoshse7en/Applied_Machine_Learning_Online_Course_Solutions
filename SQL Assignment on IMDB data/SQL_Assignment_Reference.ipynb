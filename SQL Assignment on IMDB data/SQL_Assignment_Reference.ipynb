{
 "cells": [
  {
   "cell_type": "markdown",
   "metadata": {},
   "source": [
    "## SQL Assignment\n",
    "\n",
    "using Jupyter Magics with SQL\n",
    "\n",
    "**Dependencies:**\n",
    "\n",
    "* pip install ipython-sql"
   ]
  },
  {
   "cell_type": "code",
   "execution_count": 1,
   "metadata": {},
   "outputs": [
    {
     "data": {
      "text/plain": [
       "'Connected: @Db-IMDB-Assignment.db'"
      ]
     },
     "execution_count": 1,
     "metadata": {},
     "output_type": "execute_result"
    }
   ],
   "source": [
    "#loading SQL module\n",
    "%load_ext sql\n",
    "\n",
    "#connect to the database\n",
    "%sql sqlite:///Db-IMDB-Assignment.db"
   ]
  },
  {
   "cell_type": "markdown",
   "metadata": {},
   "source": [
    "### IMDB-Data-Cleaning\n",
    "\n",
    "For those who want to remove the Unwanted ( Roman symbols ) from the \"Year\" column and spaces in the name column, pid and mid\n",
    "in all the required tables for the assignment, you can do this"
   ]
  },
  {
   "cell_type": "raw",
   "metadata": {},
   "source": [
    "%%time\n",
    "%%sql\n",
    "\n",
    "UPDATE Movie SET year = REPLACE(year, \"I\", \"\");\n",
    "UPDATE Movie SET year = REPLACE(year, \"V\", \"\");\n",
    "UPDATE Movie SET year = REPLACE(year, \"X \", \"\");\n",
    "UPDATE Movie SET title = LTRIM(title);\n",
    "UPDATE Movie SET year = RTRIM(LTRIM(year));\n",
    "UPDATE Movie SET rating = RTRIM(LTRIM(rating));\n",
    "UPDATE Movie SET num_votes = RTRIM(LTRIM(num_votes));\n",
    "\n",
    "UPDATE M_Producer SET pid = RTRIM(LTRIM(pid));\n",
    "UPDATE M_Producer SET mid = RTRIM(LTRIM(mid));\n",
    "\n",
    "UPDATE M_Director SET pid = RTRIM(LTRIM(pid));\n",
    "UPDATE M_Director SET mid = RTRIM(LTRIM(mid));\n",
    "\n",
    "UPDATE M_Cast SET pid = RTRIM(LTRIM(pid));\n",
    "UPDATE M_Cast SET mid = RTRIM(LTRIM(mid));\n",
    "\n",
    "UPDATE M_Genre SET gid = RTRIM(LTRIM(gid));\n",
    "UPDATE M_Genre SET mid = RTRIM(LTRIM(mid));\n",
    "\n",
    "UPDATE Genre SET gid = RTRIM(LTRIM(gid));\n",
    "UPDATE Genre SET name = RTRIM(LTRIM(name));\n",
    "\n",
    "UPDATE Person SET name = RTRIM(LTRIM(name));\n",
    "UPDATE Person SET pid = RTRIM(LTRIM(pid));\n",
    "UPDATE Person SET gender = RTRIM(LTRIM(gender));"
   ]
  },
  {
   "cell_type": "markdown",
   "metadata": {},
   "source": [
    "### Q1 --- List all the directors who directed a 'Comedy' movie in a leap year. (You need to check that the genre is 'Comedy’ and year is a leap year) Your query should return director name, the movie name, and the year."
   ]
  },
  {
   "cell_type": "code",
   "execution_count": 2,
   "metadata": {},
   "outputs": [
    {
     "name": "stdout",
     "output_type": "stream",
     "text": [
      " * sqlite:///Db-IMDB-Assignment.db\n",
      "Done.\n",
      "Wall time: 93.7 ms\n"
     ]
    },
    {
     "data": {
      "text/html": [
       "<table>\n",
       "    <tr>\n",
       "        <th>Director</th>\n",
       "        <th>title</th>\n",
       "        <th>year</th>\n",
       "    </tr>\n",
       "    <tr>\n",
       "        <td>Milap Zaveri</td>\n",
       "        <td>Mastizaade</td>\n",
       "        <td>2016</td>\n",
       "    </tr>\n",
       "    <tr>\n",
       "        <td>Danny Leiner</td>\n",
       "        <td>Harold &amp; Kumar Go to White Castle</td>\n",
       "        <td>2004</td>\n",
       "    </tr>\n",
       "    <tr>\n",
       "        <td>Anurag Kashyap</td>\n",
       "        <td>Gangs of Wasseypur</td>\n",
       "        <td>2012</td>\n",
       "    </tr>\n",
       "    <tr>\n",
       "        <td>Frank Coraci</td>\n",
       "        <td>Around the World in 80 Days</td>\n",
       "        <td>2004</td>\n",
       "    </tr>\n",
       "    <tr>\n",
       "        <td>Griffin Dunne</td>\n",
       "        <td>The Accidental Husband</td>\n",
       "        <td>2008</td>\n",
       "    </tr>\n",
       "    <tr>\n",
       "        <td>Anurag Basu</td>\n",
       "        <td>Barfi!</td>\n",
       "        <td>2012</td>\n",
       "    </tr>\n",
       "    <tr>\n",
       "        <td>Gurinder Chadha</td>\n",
       "        <td>Bride &amp; Prejudice</td>\n",
       "        <td>2004</td>\n",
       "    </tr>\n",
       "</table>"
      ],
      "text/plain": [
       "[('Milap Zaveri', 'Mastizaade', '2016'),\n",
       " ('Danny Leiner', 'Harold & Kumar Go to White Castle', '2004'),\n",
       " ('Anurag Kashyap', 'Gangs of Wasseypur', '2012'),\n",
       " ('Frank Coraci', 'Around the World in 80 Days', '2004'),\n",
       " ('Griffin Dunne', 'The Accidental Husband', '2008'),\n",
       " ('Anurag Basu', 'Barfi!', '2012'),\n",
       " ('Gurinder Chadha', 'Bride & Prejudice', '2004')]"
      ]
     },
     "execution_count": 2,
     "metadata": {},
     "output_type": "execute_result"
    }
   ],
   "source": [
    "%%time\n",
    "%%sql\n",
    "\n",
    "SELECT P.Name AS 'Director', M.title, M.\"year\"\n",
    "FROM Person P \n",
    "JOIN M_Director MD ON MD.PID = P.PID \n",
    "JOIN Movie M ON M.MID = MD.MID \n",
    "JOIN M_Genre MG ON MG.MID = M.MID\n",
    "JOIN Genre G ON G.GID = MG.GID \n",
    "WHERE G.Name LIKE '%Comedy%'\n",
    "AND M.\"year\" % 4 = 0\n",
    "LIMIT 7;"
   ]
  },
  {
   "cell_type": "markdown",
   "metadata": {},
   "source": [
    "### Q2 --- List the names of all the actors who played in the movie 'Anand' (1971)"
   ]
  },
  {
   "cell_type": "code",
   "execution_count": 3,
   "metadata": {},
   "outputs": [
    {
     "name": "stdout",
     "output_type": "stream",
     "text": [
      " * sqlite:///Db-IMDB-Assignment.db\n",
      "Done.\n",
      "Wall time: 235 ms\n"
     ]
    },
    {
     "data": {
      "text/html": [
       "<table>\n",
       "    <tr>\n",
       "        <th>Name</th>\n",
       "    </tr>\n",
       "    <tr>\n",
       "        <td>Amitabh Bachchan</td>\n",
       "    </tr>\n",
       "    <tr>\n",
       "        <td>Rajesh Khanna</td>\n",
       "    </tr>\n",
       "    <tr>\n",
       "        <td>Brahm Bhardwaj</td>\n",
       "    </tr>\n",
       "    <tr>\n",
       "        <td>Ramesh Deo</td>\n",
       "    </tr>\n",
       "    <tr>\n",
       "        <td>Seema Deo</td>\n",
       "    </tr>\n",
       "    <tr>\n",
       "        <td>Dev Kishan</td>\n",
       "    </tr>\n",
       "    <tr>\n",
       "        <td>Durga Khote</td>\n",
       "    </tr>\n",
       "</table>"
      ],
      "text/plain": [
       "[('Amitabh Bachchan',),\n",
       " ('Rajesh Khanna',),\n",
       " ('Brahm Bhardwaj',),\n",
       " ('Ramesh Deo',),\n",
       " ('Seema Deo',),\n",
       " ('Dev Kishan',),\n",
       " ('Durga Khote',)]"
      ]
     },
     "execution_count": 3,
     "metadata": {},
     "output_type": "execute_result"
    }
   ],
   "source": [
    "%%time\n",
    "%%sql\n",
    "\n",
    "SELECT P.Name\n",
    "FROM Person P \n",
    "JOIN M_Cast MC ON P.PID = TRIM(MC.PID) \n",
    "JOIN Movie M ON M.MID = MC.MID \n",
    "WHERE M.title = 'Anand' AND M.\"year\" = 1971\n",
    "LIMIT 7;"
   ]
  },
  {
   "cell_type": "markdown",
   "metadata": {},
   "source": [
    "### Q3 --- List all the actors who acted in a film before 1970 and in a film after 1990. (That is: < 1970 and > 1990.)"
   ]
  },
  {
   "cell_type": "code",
   "execution_count": 4,
   "metadata": {},
   "outputs": [
    {
     "name": "stdout",
     "output_type": "stream",
     "text": [
      " * sqlite:///Db-IMDB-Assignment.db\n",
      "Done.\n",
      "Wall time: 670 ms\n"
     ]
    },
    {
     "data": {
      "text/html": [
       "<table>\n",
       "    <tr>\n",
       "        <th>Actor</th>\n",
       "    </tr>\n",
       "    <tr>\n",
       "        <td>Rishi Kapoor</td>\n",
       "    </tr>\n",
       "    <tr>\n",
       "        <td>Amitabh Bachchan</td>\n",
       "    </tr>\n",
       "    <tr>\n",
       "        <td>Asrani</td>\n",
       "    </tr>\n",
       "    <tr>\n",
       "        <td>Zohra Sehgal</td>\n",
       "    </tr>\n",
       "    <tr>\n",
       "        <td>Parikshat Sahni</td>\n",
       "    </tr>\n",
       "    <tr>\n",
       "        <td>Rakesh Sharma</td>\n",
       "    </tr>\n",
       "    <tr>\n",
       "        <td>Sanjay Dutt</td>\n",
       "    </tr>\n",
       "</table>"
      ],
      "text/plain": [
       "[('Rishi Kapoor',),\n",
       " ('Amitabh Bachchan',),\n",
       " ('Asrani',),\n",
       " ('Zohra Sehgal',),\n",
       " ('Parikshat Sahni',),\n",
       " ('Rakesh Sharma',),\n",
       " ('Sanjay Dutt',)]"
      ]
     },
     "execution_count": 4,
     "metadata": {},
     "output_type": "execute_result"
    }
   ],
   "source": [
    "%%time\n",
    "%%sql\n",
    "\n",
    "WITH \n",
    "CAST_ON_1970 AS (SELECT TRIM(P.PID) FROM Person P JOIN M_Cast MC ON P.PID = TRIM(MC.PID) JOIN Movie M ON M.MID = MC.MID WHERE M.\"year\" < 1970),\n",
    "CAST_ON_1990 AS (SELECT TRIM(P.PID) FROM Person P JOIN M_Cast MC ON P.PID = TRIM(MC.PID) JOIN Movie M ON M.MID = MC.MID WHERE M.\"year\" > 1990)\n",
    "\n",
    "SELECT P.Name AS 'Actor'\n",
    "FROM Person P\n",
    "WHERE TRIM(PID) IN CAST_ON_1970 AND TRIM(P.PID) IN CAST_ON_1990\n",
    "LIMIT 7;"
   ]
  },
  {
   "cell_type": "markdown",
   "metadata": {},
   "source": [
    "### Q4 --- List all directors who directed 10 movies or more, in descending order of the number of movies they directed. Return the directors' names and the number of movies each of them directed."
   ]
  },
  {
   "cell_type": "code",
   "execution_count": 5,
   "metadata": {},
   "outputs": [
    {
     "name": "stdout",
     "output_type": "stream",
     "text": [
      " * sqlite:///Db-IMDB-Assignment.db\n",
      "Done.\n",
      "Wall time: 7.98 ms\n"
     ]
    },
    {
     "data": {
      "text/html": [
       "<table>\n",
       "    <tr>\n",
       "        <th>Name</th>\n",
       "        <th>Movie_Count</th>\n",
       "    </tr>\n",
       "    <tr>\n",
       "        <td>Mahesh Manjrekar</td>\n",
       "        <td>15</td>\n",
       "    </tr>\n",
       "    <tr>\n",
       "        <td>Satish Kaushik</td>\n",
       "        <td>12</td>\n",
       "    </tr>\n",
       "    <tr>\n",
       "        <td>Anurag Kashyap</td>\n",
       "        <td>13</td>\n",
       "    </tr>\n",
       "    <tr>\n",
       "        <td>Yash Chopra</td>\n",
       "        <td>21</td>\n",
       "    </tr>\n",
       "    <tr>\n",
       "        <td>Subhash Ghai</td>\n",
       "        <td>18</td>\n",
       "    </tr>\n",
       "    <tr>\n",
       "        <td>Rakesh Roshan</td>\n",
       "        <td>13</td>\n",
       "    </tr>\n",
       "    <tr>\n",
       "        <td>Madhur Bhandarkar</td>\n",
       "        <td>12</td>\n",
       "    </tr>\n",
       "</table>"
      ],
      "text/plain": [
       "[('Mahesh Manjrekar', 15),\n",
       " ('Satish Kaushik', 12),\n",
       " ('Anurag Kashyap', 13),\n",
       " ('Yash Chopra', 21),\n",
       " ('Subhash Ghai', 18),\n",
       " ('Rakesh Roshan', 13),\n",
       " ('Madhur Bhandarkar', 12)]"
      ]
     },
     "execution_count": 5,
     "metadata": {},
     "output_type": "execute_result"
    }
   ],
   "source": [
    "%%time\n",
    "%%sql\n",
    "\n",
    "WITH \n",
    "DIRECTOR_MOVIES AS (SELECT MD.PID, COUNT(*) AS Movie_Count FROM M_Director MD GROUP BY MD.PID HAVING COUNT(*) > 10)\n",
    "\n",
    "SELECT P.Name, DM.Movie_Count \n",
    "FROM Person P \n",
    "JOIN DIRECTOR_MOVIES DM ON P.PID = DM.PID\n",
    "LIMIT 7;"
   ]
  },
  {
   "cell_type": "markdown",
   "metadata": {},
   "source": [
    "### Q5.a --- For each year, count the number of movies in that year that had only female actors."
   ]
  },
  {
   "cell_type": "code",
   "execution_count": 6,
   "metadata": {},
   "outputs": [
    {
     "name": "stdout",
     "output_type": "stream",
     "text": [
      " * sqlite:///Db-IMDB-Assignment.db\n",
      "Done.\n",
      "Wall time: 380 ms\n"
     ]
    },
    {
     "data": {
      "text/html": [
       "<table>\n",
       "    <tr>\n",
       "        <th>year</th>\n",
       "        <th>count</th>\n",
       "    </tr>\n",
       "    <tr>\n",
       "        <td>1939</td>\n",
       "        <td>1</td>\n",
       "    </tr>\n",
       "    <tr>\n",
       "        <td>1999</td>\n",
       "        <td>1</td>\n",
       "    </tr>\n",
       "    <tr>\n",
       "        <td>2000</td>\n",
       "        <td>1</td>\n",
       "    </tr>\n",
       "    <tr>\n",
       "        <td>2018</td>\n",
       "        <td>2</td>\n",
       "    </tr>\n",
       "</table>"
      ],
      "text/plain": [
       "[('1939', 1), ('1999', 1), ('2000', 1), ('2018', 2)]"
      ]
     },
     "execution_count": 6,
     "metadata": {},
     "output_type": "execute_result"
    }
   ],
   "source": [
    "%%time\n",
    "%%sql\n",
    "\n",
    "-- \"Filtering all the Movies with Male and Eliminating those to find the only female cast movies\"\n",
    "\n",
    "WITH \n",
    "NON_FEMALE_MOVIES AS (SELECT TRIM(MC.MID) FROM M_Cast MC INNER JOIN Person P ON P.PID = TRIM(MC.PID) WHERE P.Gender in ('Male', NULL) GROUP BY MC.MID),\n",
    "FEMALE_MOVIES AS (SELECT M.MID FROM Movie M INNER JOIN M_Cast MC ON TRIM(MC.MID) = M.MID WHERE TRIM(M.MID) NOT IN NON_FEMALE_MOVIES AND MC.PID NOTNULL GROUP BY M.MID)\n",
    "\n",
    "\n",
    "SELECT M.\"year\", COUNT(*) AS 'count'\n",
    "FROM Movie M\n",
    "WHERE TRIM(M.MID) IN FEMALE_MOVIES\n",
    "GROUP BY M.\"year\"\n",
    "ORDER BY M.\"year\"\n",
    "LIMIT 7;"
   ]
  },
  {
   "cell_type": "markdown",
   "metadata": {},
   "source": [
    "### Q5.b --- Now include a small change: report for each year the percentage of movies in that year with only female actors, and the total number of movies made that year. For example, one answer will be: 1990 31.81 13522 meaning that in 1990 there were 13,522 movies, and 31.81% had only female actors. You do not need to round your answer."
   ]
  },
  {
   "cell_type": "code",
   "execution_count": 7,
   "metadata": {},
   "outputs": [
    {
     "name": "stdout",
     "output_type": "stream",
     "text": [
      " * sqlite:///Db-IMDB-Assignment.db\n",
      "Done.\n",
      "Wall time: 390 ms\n"
     ]
    },
    {
     "data": {
      "text/html": [
       "<table>\n",
       "    <tr>\n",
       "        <th>year</th>\n",
       "        <th>female_movies</th>\n",
       "        <th>total_movies</th>\n",
       "        <th>percent</th>\n",
       "    </tr>\n",
       "    <tr>\n",
       "        <td>1939</td>\n",
       "        <td>1</td>\n",
       "        <td>2</td>\n",
       "        <td>50</td>\n",
       "    </tr>\n",
       "    <tr>\n",
       "        <td>1999</td>\n",
       "        <td>1</td>\n",
       "        <td>66</td>\n",
       "        <td>1</td>\n",
       "    </tr>\n",
       "    <tr>\n",
       "        <td>2000</td>\n",
       "        <td>1</td>\n",
       "        <td>64</td>\n",
       "        <td>1</td>\n",
       "    </tr>\n",
       "    <tr>\n",
       "        <td>2018</td>\n",
       "        <td>2</td>\n",
       "        <td>104</td>\n",
       "        <td>1</td>\n",
       "    </tr>\n",
       "</table>"
      ],
      "text/plain": [
       "[('1939', 1, 2, 50),\n",
       " ('1999', 1, 66, 1),\n",
       " ('2000', 1, 64, 1),\n",
       " ('2018', 2, 104, 1)]"
      ]
     },
     "execution_count": 7,
     "metadata": {},
     "output_type": "execute_result"
    }
   ],
   "source": [
    "%%time\n",
    "%%sql\n",
    "\n",
    "--\"1. Filtering all the Movies with Male and Eliminating those to find the only female cast movies\"\n",
    "--\"2. Comparing the Female only movies with total movies made that particular year and its percentage\"\n",
    "\n",
    "WITH \n",
    "NON_FEMALE_MOVIES AS (SELECT TRIM(MC.MID) FROM M_Cast MC INNER JOIN Person P ON P.PID = TRIM(MC.PID) WHERE P.Gender in ('Male', NULL) GROUP BY MC.MID),\n",
    "FEMALE_MOVIES AS (SELECT M.MID FROM Movie M INNER JOIN M_Cast MC ON TRIM(MC.MID) = M.MID WHERE TRIM(M.MID) NOT IN NON_FEMALE_MOVIES AND MC.PID NOTNULL GROUP BY M.MID),\n",
    "ALL_YEARS AS (SELECT M.\"year\", COUNT(*) AS 'total_movies' FROM Movie as M GROUP BY M.\"year\")\n",
    "\n",
    "SELECT M.\"year\", COUNT(M.\"year\") AS female_movies, AY.total_movies, COUNT(M.\"year\") * 100 / AY.total_movies AS percent\n",
    "FROM Movie M\n",
    "INNER JOIN FEMALE_MOVIES FM ON FM.MID = M.MID\n",
    "INNER JOIN ALL_YEARS AY ON M.\"year\" = AY.\"year\"\n",
    "GROUP BY M.\"year\"\n",
    "ORDER BY M.\"year\"\n",
    "LIMIT 7;"
   ]
  },
  {
   "cell_type": "markdown",
   "metadata": {},
   "source": [
    "### Q6 --- Find the film(s) with the largest cast. Return the movie title and the size of the cast. By \"cast size\" we mean the number of distinct actors that played in that movie: if an actor played multiple roles, or if it simply occurs multiple times in casts, we still count her/him only once."
   ]
  },
  {
   "cell_type": "code",
   "execution_count": 8,
   "metadata": {},
   "outputs": [
    {
     "name": "stdout",
     "output_type": "stream",
     "text": [
      " * sqlite:///Db-IMDB-Assignment.db\n",
      "Done.\n",
      "Wall time: 65.8 ms\n"
     ]
    },
    {
     "data": {
      "text/html": [
       "<table>\n",
       "    <tr>\n",
       "        <th>MID</th>\n",
       "        <th>title</th>\n",
       "        <th>CAST_SIZE</th>\n",
       "    </tr>\n",
       "    <tr>\n",
       "        <td>tt5164214</td>\n",
       "        <td>Ocean&#x27;s Eight</td>\n",
       "        <td>238</td>\n",
       "    </tr>\n",
       "</table>"
      ],
      "text/plain": [
       "[('tt5164214', \"Ocean's Eight\", 238)]"
      ]
     },
     "execution_count": 8,
     "metadata": {},
     "output_type": "execute_result"
    }
   ],
   "source": [
    "%%time\n",
    "%%sql\n",
    "\n",
    "WITH \n",
    "LARGER_CAST AS (SELECT COUNT(*) AS CAST_COUNT, MID FROM M_Cast GROUP BY MID)\n",
    "\n",
    "SELECT LC.MID, M.TITLE, MAX(LC.CAST_COUNT) AS CAST_SIZE\n",
    "FROM LARGER_CAST LC\n",
    "JOIN Movie M ON M.MID = LC.MID \n",
    "LIMIT 7;"
   ]
  },
  {
   "cell_type": "markdown",
   "metadata": {},
   "source": [
    "### Q7 --- A decade is a sequence of 10 consecutive years. For example, say in your database you have movie information starting from 1965. Then the first decade is 1965, 1966, ..., 1974; the second one is 1967, 1968, ..., 1976 and so on. Find the decade D with the largest number of films and the total number of films in D."
   ]
  },
  {
   "cell_type": "code",
   "execution_count": 9,
   "metadata": {},
   "outputs": [
    {
     "name": "stdout",
     "output_type": "stream",
     "text": [
      " * sqlite:///Db-IMDB-Assignment.db\n",
      "Done.\n",
      "Wall time: 114 ms\n"
     ]
    },
    {
     "data": {
      "text/html": [
       "<table>\n",
       "    <tr>\n",
       "        <th>START</th>\n",
       "        <th>END</th>\n",
       "        <th>COUNT</th>\n",
       "    </tr>\n",
       "    <tr>\n",
       "        <td>2008</td>\n",
       "        <td>2017</td>\n",
       "        <td>1205</td>\n",
       "    </tr>\n",
       "</table>"
      ],
      "text/plain": [
       "[('2008', 2017, 1205)]"
      ]
     },
     "execution_count": 9,
     "metadata": {},
     "output_type": "execute_result"
    }
   ],
   "source": [
    "%%time\n",
    "%%sql\n",
    "\n",
    "--\"1. Filtering the Distinct year from movie table\"\n",
    "--\"2. Adding +9 year to all unique year to find the decades largest produced movies\"\n",
    "\n",
    "WITH \n",
    "UNIQUE_YEAR AS (SELECT DISTINCT \"year\" FROM Movie)\n",
    "\n",
    "SELECT D.\"year\" AS START, D.\"year\"+9 AS END, COUNT(*) AS 'COUNT' \n",
    "FROM UNIQUE_YEAR D\n",
    "JOIN Movie M on M.\"year\" >= START AND M.\"year\"<= END\n",
    "GROUP BY END \n",
    "ORDER BY COUNT(*) DESC \n",
    "LIMIT 1"
   ]
  },
  {
   "cell_type": "markdown",
   "metadata": {},
   "source": [
    "### Q8 --- Find all the actors that made more movies with Yash Chopra than any other director."
   ]
  },
  {
   "cell_type": "code",
   "execution_count": 10,
   "metadata": {},
   "outputs": [
    {
     "name": "stdout",
     "output_type": "stream",
     "text": [
      " * sqlite:///Db-IMDB-Assignment.db\n",
      "Done.\n",
      "Wall time: 570 ms\n"
     ]
    },
    {
     "data": {
      "text/html": [
       "<table>\n",
       "    <tr>\n",
       "        <th>ACTOR_NAME</th>\n",
       "        <th>YASH_CHOPRA_DIRECTED_MOVIES</th>\n",
       "    </tr>\n",
       "    <tr>\n",
       "        <td>Jagdish Raj</td>\n",
       "        <td>11</td>\n",
       "    </tr>\n",
       "    <tr>\n",
       "        <td>Manmohan Krishna</td>\n",
       "        <td>10</td>\n",
       "    </tr>\n",
       "    <tr>\n",
       "        <td>Iftekhar</td>\n",
       "        <td>9</td>\n",
       "    </tr>\n",
       "    <tr>\n",
       "        <td>Madan Puri</td>\n",
       "        <td>8</td>\n",
       "    </tr>\n",
       "    <tr>\n",
       "        <td>Vikas Anand</td>\n",
       "        <td>8</td>\n",
       "    </tr>\n",
       "    <tr>\n",
       "        <td>Anupam Kher</td>\n",
       "        <td>7</td>\n",
       "    </tr>\n",
       "    <tr>\n",
       "        <td>Shashi Kapoor</td>\n",
       "        <td>7</td>\n",
       "    </tr>\n",
       "</table>"
      ],
      "text/plain": [
       "[('Jagdish Raj', 11),\n",
       " ('Manmohan Krishna', 10),\n",
       " ('Iftekhar', 9),\n",
       " ('Madan Puri', 8),\n",
       " ('Vikas Anand', 8),\n",
       " ('Anupam Kher', 7),\n",
       " ('Shashi Kapoor', 7)]"
      ]
     },
     "execution_count": 10,
     "metadata": {},
     "output_type": "execute_result"
    }
   ],
   "source": [
    "%%time\n",
    "%%sql\n",
    "\n",
    "--\"Filter the all actors that made more movies with Yash Chopra than any other\"\n",
    "\n",
    "SELECT TRIM(P.Name) AS ACTOR_NAME, COUNT(DISTINCT M.MID) AS YASH_CHOPRA_DIRECTED_MOVIES\n",
    "FROM Person P \n",
    "JOIN M_Cast MC ON TRIM(MC.PID) = P.PID \n",
    "JOIN Movie M ON M.MID = MC.MID \n",
    "JOIN M_Director MD ON MD.MID = M.MID \n",
    "JOIN Person P1 ON P1.PID = TRIM(MD.PID)\n",
    "WHERE TRIM(P1.Name) = 'Yash Chopra'\n",
    "GROUP BY TRIM(P.PID)\n",
    "ORDER BY COUNT(DISTINCT M.MID) DESC\n",
    "LIMIT 7;"
   ]
  },
  {
   "cell_type": "markdown",
   "metadata": {},
   "source": [
    "### Q9 --- The Shahrukh number of an actor is the length of the shortest path between the actor and Shahrukh Khan in the \"co-acting\" graph. That is, Shahrukh Khan has Shahrukh number 0; all actors who acted in the same film as Shahrukh have Shahrukh number 1; all actors who acted in the same film as some actor with Shahrukh number 1 have Shahrukh number 2, etc. Return all actors whose Shahrukh number is 2."
   ]
  },
  {
   "cell_type": "code",
   "execution_count": 11,
   "metadata": {},
   "outputs": [
    {
     "name": "stdout",
     "output_type": "stream",
     "text": [
      " * sqlite:///Db-IMDB-Assignment.db\n",
      "Done.\n",
      "Wall time: 747 ms\n"
     ]
    },
    {
     "data": {
      "text/html": [
       "<table>\n",
       "    <tr>\n",
       "        <th>MID</th>\n",
       "        <th>title</th>\n",
       "        <th>cast_number</th>\n",
       "        <th>Name</th>\n",
       "    </tr>\n",
       "    <tr>\n",
       "        <td>tt0107321</td>\n",
       "        <td>King Uncle</td>\n",
       "        <td>1</td>\n",
       "        <td>Jackie Shroff</td>\n",
       "    </tr>\n",
       "    <tr>\n",
       "        <td>tt0107321</td>\n",
       "        <td>King Uncle</td>\n",
       "        <td>2</td>\n",
       "        <td>Shah Rukh Khan</td>\n",
       "    </tr>\n",
       "    <tr>\n",
       "        <td>tt0107321</td>\n",
       "        <td>King Uncle</td>\n",
       "        <td>3</td>\n",
       "        <td>Nagma</td>\n",
       "    </tr>\n",
       "    <tr>\n",
       "        <td>tt0107321</td>\n",
       "        <td>King Uncle</td>\n",
       "        <td>4</td>\n",
       "        <td>Sushmita Mukherjee</td>\n",
       "    </tr>\n",
       "    <tr>\n",
       "        <td>tt0107321</td>\n",
       "        <td>King Uncle</td>\n",
       "        <td>5</td>\n",
       "        <td>Deb Mukherjee</td>\n",
       "    </tr>\n",
       "    <tr>\n",
       "        <td>tt0107321</td>\n",
       "        <td>King Uncle</td>\n",
       "        <td>6</td>\n",
       "        <td>Deven Verma</td>\n",
       "    </tr>\n",
       "    <tr>\n",
       "        <td>tt0107321</td>\n",
       "        <td>King Uncle</td>\n",
       "        <td>7</td>\n",
       "        <td>Yunus Parvez</td>\n",
       "    </tr>\n",
       "</table>"
      ],
      "text/plain": [
       "[('tt0107321', 'King Uncle', 1, 'Jackie Shroff'),\n",
       " ('tt0107321', 'King Uncle', 2, 'Shah Rukh Khan'),\n",
       " ('tt0107321', 'King Uncle', 3, 'Nagma'),\n",
       " ('tt0107321', 'King Uncle', 4, 'Sushmita Mukherjee'),\n",
       " ('tt0107321', 'King Uncle', 5, 'Deb Mukherjee'),\n",
       " ('tt0107321', 'King Uncle', 6, 'Deven Verma'),\n",
       " ('tt0107321', 'King Uncle', 7, 'Yunus Parvez')]"
      ]
     },
     "execution_count": 11,
     "metadata": {},
     "output_type": "execute_result"
    }
   ],
   "source": [
    "%%time\n",
    "%%sql\n",
    "\n",
    "--\"1. Row_Number() function is used To identify the cast number/priority\"\n",
    "--\"2. Filter the all actors whose Shah Rukh Khan number is 2\"\n",
    "\n",
    "WITH \n",
    "Shah_rukh_khan_index AS (SELECT  P.PID, MC.MID, P.Name, ROW_NUMBER() OVER (PARTITION BY MC.MID) AS ROW_NUM FROM  Person P JOIN M_Cast MC ON TRIM(MC.PID) = P.PID)\n",
    "\n",
    "SELECT MC.MID, M.title, ROW_NUMBER() OVER (PARTITION BY MC.MID) AS 'cast_number', P.Name\n",
    "FROM Person P \n",
    "JOIN M_Cast MC ON TRIM(MC.PID) = P.PID \n",
    "JOIN Movie M ON M.MID = TRIM(MC.MID)\n",
    "WHERE M.MID IN (SELECT MID FROM Shah_rukh_khan_index WHERE Name LIKE '%Shah%Rukh%Khan%' and ROW_NUM = 2)\n",
    "LIMIT 7;"
   ]
  },
  {
   "cell_type": "code",
   "execution_count": null,
   "metadata": {},
   "outputs": [],
   "source": []
  }
 ],
 "metadata": {
  "kernelspec": {
   "display_name": "Python 3",
   "language": "python",
   "name": "python3"
  },
  "language_info": {
   "codemirror_mode": {
    "name": "ipython",
    "version": 3
   },
   "file_extension": ".py",
   "mimetype": "text/x-python",
   "name": "python",
   "nbconvert_exporter": "python",
   "pygments_lexer": "ipython3",
   "version": "3.7.6"
  }
 },
 "nbformat": 4,
 "nbformat_minor": 2
}
