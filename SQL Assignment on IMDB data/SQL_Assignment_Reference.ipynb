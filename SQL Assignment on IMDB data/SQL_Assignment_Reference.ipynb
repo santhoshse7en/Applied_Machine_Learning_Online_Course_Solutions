{
 "cells": [
  {
   "cell_type": "markdown",
   "metadata": {},
   "source": [
    "# SQL Assignment"
   ]
  },
  {
   "cell_type": "code",
   "execution_count": 1,
   "metadata": {},
   "outputs": [],
   "source": [
    "import pandas as pd\n",
    "import sqlite3"
   ]
  },
  {
   "cell_type": "code",
   "execution_count": 2,
   "metadata": {},
   "outputs": [],
   "source": [
    "conn = sqlite3.connect(\"Db-IMDB-Assignment.db\")"
   ]
  },
  {
   "cell_type": "code",
   "execution_count": 3,
   "metadata": {},
   "outputs": [],
   "source": [
    "# Modification in DB\n",
    "\n",
    "cursor = conn.cursor()\n",
    "cursor.execute('UPDATE Movie SET year = REPLACE(year, \"I\", \"\");')\n",
    "cursor.execute('UPDATE Movie SET year = REPLACE(year, \"V\", \"\");')\n",
    "cursor.execute('UPDATE Movie SET year = REPLACE(year, \"X \", \"\");')\n",
    "cursor.execute('UPDATE Movie SET title = LTRIM(title);')\n",
    "cursor.execute('UPDATE Movie SET year = RTRIM(LTRIM(year));')\n",
    "cursor.execute('UPDATE Movie SET rating = RTRIM(LTRIM(rating));')\n",
    "cursor.execute('UPDATE Movie SET num_votes = RTRIM(LTRIM(num_votes));')\n",
    "\n",
    "cursor.execute('UPDATE M_Producer SET pid = RTRIM(LTRIM(pid));')\n",
    "cursor.execute('UPDATE M_Producer SET mid = RTRIM(LTRIM(mid));')\n",
    "\n",
    "cursor.execute('UPDATE M_Director SET pid = RTRIM(LTRIM(pid));')\n",
    "cursor.execute('UPDATE M_Director SET mid = RTRIM(LTRIM(mid));')\n",
    "\n",
    "cursor.execute('UPDATE M_Cast SET pid = RTRIM(LTRIM(pid));')\n",
    "cursor.execute('UPDATE M_Cast SET mid = RTRIM(LTRIM(mid));')\n",
    "\n",
    "cursor.execute('UPDATE M_Genre SET gid = RTRIM(LTRIM(gid));')\n",
    "cursor.execute('UPDATE M_Genre SET mid = RTRIM(LTRIM(mid));')\n",
    "\n",
    "cursor.execute('UPDATE Genre SET gid = RTRIM(LTRIM(gid));')\n",
    "cursor.execute('UPDATE Genre SET name = RTRIM(LTRIM(name));')\n",
    "\n",
    "cursor.execute('UPDATE Person SET name = RTRIM(LTRIM(name));')\n",
    "cursor.execute('UPDATE Person SET pid = RTRIM(LTRIM(pid));')\n",
    "cursor.execute('UPDATE Person SET gender = RTRIM(LTRIM(gender));')\n",
    "\n",
    "conn.commit()"
   ]
  },
  {
   "cell_type": "markdown",
   "metadata": {},
   "source": [
    "## Sample Code"
   ]
  },
  {
   "cell_type": "code",
   "execution_count": 4,
   "metadata": {},
   "outputs": [
    {
     "name": "stdout",
     "output_type": "stream",
     "text": [
      "(85, 1)\n",
      "Wall time: 95.8 ms\n"
     ]
    },
    {
     "data": {
      "text/html": [
       "<div>\n",
       "<style scoped>\n",
       "    .dataframe tbody tr th:only-of-type {\n",
       "        vertical-align: middle;\n",
       "    }\n",
       "\n",
       "    .dataframe tbody tr th {\n",
       "        vertical-align: top;\n",
       "    }\n",
       "\n",
       "    .dataframe thead th {\n",
       "        text-align: right;\n",
       "    }\n",
       "</style>\n",
       "<table border=\"1\" class=\"dataframe\">\n",
       "  <thead>\n",
       "    <tr style=\"text-align: right;\">\n",
       "      <th></th>\n",
       "      <th>Movie_Name</th>\n",
       "    </tr>\n",
       "  </thead>\n",
       "  <tbody>\n",
       "    <tr>\n",
       "      <th>0</th>\n",
       "      <td>Mastizaade</td>\n",
       "    </tr>\n",
       "    <tr>\n",
       "      <th>1</th>\n",
       "      <td>Dragonball Evolution</td>\n",
       "    </tr>\n",
       "    <tr>\n",
       "      <th>2</th>\n",
       "      <td>Loveyatri</td>\n",
       "    </tr>\n",
       "    <tr>\n",
       "      <th>3</th>\n",
       "      <td>Race 3</td>\n",
       "    </tr>\n",
       "    <tr>\n",
       "      <th>4</th>\n",
       "      <td>Gunday</td>\n",
       "    </tr>\n",
       "  </tbody>\n",
       "</table>\n",
       "</div>"
      ],
      "text/plain": [
       "             Movie_Name\n",
       "0            Mastizaade\n",
       "1  Dragonball Evolution\n",
       "2             Loveyatri\n",
       "3                Race 3\n",
       "4                Gunday"
      ]
     },
     "execution_count": 4,
     "metadata": {},
     "output_type": "execute_result"
    }
   ],
   "source": [
    "%%time\n",
    "# Write your sql query below\n",
    "\n",
    "query = \"\"\"\n",
    "        SELECT TRIM(Movie.title) AS 'Movie_Name'\n",
    "        FROM Movie\n",
    "        WHERE Movie.rating < 3\n",
    "        \"\"\"\n",
    "\n",
    "q = pd.read_sql_query(query, conn)    \n",
    "print(q.shape)\n",
    "q.head()"
   ]
  },
  {
   "cell_type": "markdown",
   "metadata": {},
   "source": [
    "## Q1 --- List all the directors who directed a 'Comedy' movie in a leap year. (You need to check that the genre is 'Comedy’ and year is a leap year) Your query should return director name, the movie name, and the year."
   ]
  },
  {
   "cell_type": "code",
   "execution_count": 5,
   "metadata": {},
   "outputs": [
    {
     "name": "stdout",
     "output_type": "stream",
     "text": [
      "(232, 3)\n",
      "Wall time: 81.8 ms\n"
     ]
    },
    {
     "data": {
      "text/html": [
       "<div>\n",
       "<style scoped>\n",
       "    .dataframe tbody tr th:only-of-type {\n",
       "        vertical-align: middle;\n",
       "    }\n",
       "\n",
       "    .dataframe tbody tr th {\n",
       "        vertical-align: top;\n",
       "    }\n",
       "\n",
       "    .dataframe thead th {\n",
       "        text-align: right;\n",
       "    }\n",
       "</style>\n",
       "<table border=\"1\" class=\"dataframe\">\n",
       "  <thead>\n",
       "    <tr style=\"text-align: right;\">\n",
       "      <th></th>\n",
       "      <th>Director</th>\n",
       "      <th>title</th>\n",
       "      <th>year</th>\n",
       "    </tr>\n",
       "  </thead>\n",
       "  <tbody>\n",
       "    <tr>\n",
       "      <th>0</th>\n",
       "      <td>Milap Zaveri</td>\n",
       "      <td>Mastizaade</td>\n",
       "      <td>2016</td>\n",
       "    </tr>\n",
       "    <tr>\n",
       "      <th>1</th>\n",
       "      <td>Danny Leiner</td>\n",
       "      <td>Harold &amp; Kumar Go to White Castle</td>\n",
       "      <td>2004</td>\n",
       "    </tr>\n",
       "    <tr>\n",
       "      <th>2</th>\n",
       "      <td>Anurag Kashyap</td>\n",
       "      <td>Gangs of Wasseypur</td>\n",
       "      <td>2012</td>\n",
       "    </tr>\n",
       "    <tr>\n",
       "      <th>3</th>\n",
       "      <td>Frank Coraci</td>\n",
       "      <td>Around the World in 80 Days</td>\n",
       "      <td>2004</td>\n",
       "    </tr>\n",
       "    <tr>\n",
       "      <th>4</th>\n",
       "      <td>Griffin Dunne</td>\n",
       "      <td>The Accidental Husband</td>\n",
       "      <td>2008</td>\n",
       "    </tr>\n",
       "  </tbody>\n",
       "</table>\n",
       "</div>"
      ],
      "text/plain": [
       "         Director                              title  year\n",
       "0    Milap Zaveri                         Mastizaade  2016\n",
       "1    Danny Leiner  Harold & Kumar Go to White Castle  2004\n",
       "2  Anurag Kashyap                 Gangs of Wasseypur  2012\n",
       "3    Frank Coraci        Around the World in 80 Days  2004\n",
       "4   Griffin Dunne             The Accidental Husband  2008"
      ]
     },
     "execution_count": 5,
     "metadata": {},
     "output_type": "execute_result"
    }
   ],
   "source": [
    "%%time\n",
    "# Write your sql query below\n",
    "\n",
    "query = \"\"\"\n",
    "        SELECT P.Name AS 'Director', M.title, M.\"year\"\n",
    "        FROM Person P \n",
    "        JOIN M_Director MD ON MD.PID = P.PID \n",
    "        JOIN Movie M ON M.MID = MD.MID \n",
    "        JOIN M_Genre MG ON MG.MID = M.MID\n",
    "        JOIN Genre G ON G.GID = MG.GID \n",
    "        WHERE G.Name LIKE '%Comedy%'\n",
    "        AND M.\"year\" % 4 = 0\n",
    "        \"\"\"\n",
    "\n",
    "q1 = pd.read_sql_query(query, conn)    \n",
    "print(q1.shape)\n",
    "q1.head()"
   ]
  },
  {
   "cell_type": "markdown",
   "metadata": {},
   "source": [
    "## Q2 --- List the names of all the actors who played in the movie 'Anand' (1971)"
   ]
  },
  {
   "cell_type": "code",
   "execution_count": 6,
   "metadata": {},
   "outputs": [
    {
     "name": "stdout",
     "output_type": "stream",
     "text": [
      "(17, 1)\n",
      "Wall time: 211 ms\n"
     ]
    },
    {
     "data": {
      "text/html": [
       "<div>\n",
       "<style scoped>\n",
       "    .dataframe tbody tr th:only-of-type {\n",
       "        vertical-align: middle;\n",
       "    }\n",
       "\n",
       "    .dataframe tbody tr th {\n",
       "        vertical-align: top;\n",
       "    }\n",
       "\n",
       "    .dataframe thead th {\n",
       "        text-align: right;\n",
       "    }\n",
       "</style>\n",
       "<table border=\"1\" class=\"dataframe\">\n",
       "  <thead>\n",
       "    <tr style=\"text-align: right;\">\n",
       "      <th></th>\n",
       "      <th>Name</th>\n",
       "    </tr>\n",
       "  </thead>\n",
       "  <tbody>\n",
       "    <tr>\n",
       "      <th>0</th>\n",
       "      <td>Amitabh Bachchan</td>\n",
       "    </tr>\n",
       "    <tr>\n",
       "      <th>1</th>\n",
       "      <td>Rajesh Khanna</td>\n",
       "    </tr>\n",
       "    <tr>\n",
       "      <th>2</th>\n",
       "      <td>Brahm Bhardwaj</td>\n",
       "    </tr>\n",
       "    <tr>\n",
       "      <th>3</th>\n",
       "      <td>Ramesh Deo</td>\n",
       "    </tr>\n",
       "    <tr>\n",
       "      <th>4</th>\n",
       "      <td>Seema Deo</td>\n",
       "    </tr>\n",
       "  </tbody>\n",
       "</table>\n",
       "</div>"
      ],
      "text/plain": [
       "               Name\n",
       "0  Amitabh Bachchan\n",
       "1     Rajesh Khanna\n",
       "2    Brahm Bhardwaj\n",
       "3        Ramesh Deo\n",
       "4         Seema Deo"
      ]
     },
     "execution_count": 6,
     "metadata": {},
     "output_type": "execute_result"
    }
   ],
   "source": [
    "%%time\n",
    "# Write your sql query below\n",
    "\n",
    "query = \"\"\"\n",
    "        SELECT P.Name\n",
    "        FROM Person P \n",
    "        JOIN M_Cast MC ON P.PID = TRIM(MC.PID) \n",
    "        JOIN Movie M ON M.MID = MC.MID \n",
    "        WHERE M.title = 'Anand' AND M.\"year\" = 1971\n",
    "        \"\"\"\n",
    "\n",
    "q2 = pd.read_sql_query(query, conn)    \n",
    "print(q2.shape)\n",
    "q2.head()"
   ]
  },
  {
   "cell_type": "markdown",
   "metadata": {},
   "source": [
    "## Q3 --- List all the actors who acted in a film before 1970 and in a film after 1990. (That is: < 1970 and > 1990.)"
   ]
  },
  {
   "cell_type": "code",
   "execution_count": 7,
   "metadata": {},
   "outputs": [
    {
     "name": "stdout",
     "output_type": "stream",
     "text": [
      "(300, 1)\n",
      "Wall time: 582 ms\n"
     ]
    },
    {
     "data": {
      "text/html": [
       "<div>\n",
       "<style scoped>\n",
       "    .dataframe tbody tr th:only-of-type {\n",
       "        vertical-align: middle;\n",
       "    }\n",
       "\n",
       "    .dataframe tbody tr th {\n",
       "        vertical-align: top;\n",
       "    }\n",
       "\n",
       "    .dataframe thead th {\n",
       "        text-align: right;\n",
       "    }\n",
       "</style>\n",
       "<table border=\"1\" class=\"dataframe\">\n",
       "  <thead>\n",
       "    <tr style=\"text-align: right;\">\n",
       "      <th></th>\n",
       "      <th>Actor</th>\n",
       "    </tr>\n",
       "  </thead>\n",
       "  <tbody>\n",
       "    <tr>\n",
       "      <th>0</th>\n",
       "      <td>Rishi Kapoor</td>\n",
       "    </tr>\n",
       "    <tr>\n",
       "      <th>1</th>\n",
       "      <td>Amitabh Bachchan</td>\n",
       "    </tr>\n",
       "    <tr>\n",
       "      <th>2</th>\n",
       "      <td>Asrani</td>\n",
       "    </tr>\n",
       "    <tr>\n",
       "      <th>3</th>\n",
       "      <td>Zohra Sehgal</td>\n",
       "    </tr>\n",
       "    <tr>\n",
       "      <th>4</th>\n",
       "      <td>Parikshat Sahni</td>\n",
       "    </tr>\n",
       "  </tbody>\n",
       "</table>\n",
       "</div>"
      ],
      "text/plain": [
       "              Actor\n",
       "0      Rishi Kapoor\n",
       "1  Amitabh Bachchan\n",
       "2            Asrani\n",
       "3      Zohra Sehgal\n",
       "4   Parikshat Sahni"
      ]
     },
     "execution_count": 7,
     "metadata": {},
     "output_type": "execute_result"
    }
   ],
   "source": [
    "%%time\n",
    "# Write your sql query below\n",
    "\n",
    "query = \"\"\"\n",
    "        WITH \n",
    "        CAST_ON_1970 AS (SELECT TRIM(P.PID) FROM Person P JOIN M_Cast MC ON P.PID = TRIM(MC.PID) JOIN Movie M ON M.MID = MC.MID WHERE M.\"year\" < 1970),\n",
    "        CAST_ON_1990 AS (SELECT TRIM(P.PID) FROM Person P JOIN M_Cast MC ON P.PID = TRIM(MC.PID) JOIN Movie M ON M.MID = MC.MID WHERE M.\"year\" > 1990)\n",
    "\n",
    "        SELECT P.Name AS 'Actor'\n",
    "        FROM Person P\n",
    "        WHERE TRIM(PID) IN CAST_ON_1970 AND TRIM(P.PID) IN CAST_ON_1990\n",
    "        \"\"\"\n",
    "\n",
    "q3 = pd.read_sql_query(query, conn)    \n",
    "print(q3.shape)\n",
    "q3.head()"
   ]
  },
  {
   "cell_type": "markdown",
   "metadata": {},
   "source": [
    "## Q4 --- List all directors who directed 10 movies or more, in descending order of the number of movies they directed. Return the directors' names and the number of movies each of them directed."
   ]
  },
  {
   "cell_type": "code",
   "execution_count": 8,
   "metadata": {},
   "outputs": [
    {
     "name": "stdout",
     "output_type": "stream",
     "text": [
      "(45, 2)\n",
      "Wall time: 17 ms\n"
     ]
    },
    {
     "data": {
      "text/html": [
       "<div>\n",
       "<style scoped>\n",
       "    .dataframe tbody tr th:only-of-type {\n",
       "        vertical-align: middle;\n",
       "    }\n",
       "\n",
       "    .dataframe tbody tr th {\n",
       "        vertical-align: top;\n",
       "    }\n",
       "\n",
       "    .dataframe thead th {\n",
       "        text-align: right;\n",
       "    }\n",
       "</style>\n",
       "<table border=\"1\" class=\"dataframe\">\n",
       "  <thead>\n",
       "    <tr style=\"text-align: right;\">\n",
       "      <th></th>\n",
       "      <th>Name</th>\n",
       "      <th>Movie_Count</th>\n",
       "    </tr>\n",
       "  </thead>\n",
       "  <tbody>\n",
       "    <tr>\n",
       "      <th>0</th>\n",
       "      <td>Mahesh Manjrekar</td>\n",
       "      <td>15</td>\n",
       "    </tr>\n",
       "    <tr>\n",
       "      <th>1</th>\n",
       "      <td>Satish Kaushik</td>\n",
       "      <td>12</td>\n",
       "    </tr>\n",
       "    <tr>\n",
       "      <th>2</th>\n",
       "      <td>Anurag Kashyap</td>\n",
       "      <td>13</td>\n",
       "    </tr>\n",
       "    <tr>\n",
       "      <th>3</th>\n",
       "      <td>Yash Chopra</td>\n",
       "      <td>21</td>\n",
       "    </tr>\n",
       "    <tr>\n",
       "      <th>4</th>\n",
       "      <td>Subhash Ghai</td>\n",
       "      <td>18</td>\n",
       "    </tr>\n",
       "  </tbody>\n",
       "</table>\n",
       "</div>"
      ],
      "text/plain": [
       "               Name  Movie_Count\n",
       "0  Mahesh Manjrekar           15\n",
       "1    Satish Kaushik           12\n",
       "2    Anurag Kashyap           13\n",
       "3       Yash Chopra           21\n",
       "4      Subhash Ghai           18"
      ]
     },
     "execution_count": 8,
     "metadata": {},
     "output_type": "execute_result"
    }
   ],
   "source": [
    "%%time\n",
    "# Write your sql query below\n",
    "\n",
    "query = \"\"\"\n",
    "        WITH \n",
    "        DIRECTOR_MOVIES AS (SELECT MD.PID, COUNT(*) AS Movie_Count FROM M_Director MD GROUP BY MD.PID HAVING COUNT(*) > 10)\n",
    "        \n",
    "        SELECT P.Name, DM.Movie_Count \n",
    "        FROM Person P \n",
    "        JOIN DIRECTOR_MOVIES DM ON P.PID = DM.PID;\n",
    "        \"\"\"\n",
    "\n",
    "q4 = pd.read_sql_query(query, conn)    \n",
    "print(q4.shape)\n",
    "q4.head()"
   ]
  },
  {
   "cell_type": "markdown",
   "metadata": {},
   "source": [
    "## Q5.a --- For each year, count the number of movies in that year that had only female actors."
   ]
  },
  {
   "cell_type": "code",
   "execution_count": 9,
   "metadata": {},
   "outputs": [
    {
     "name": "stdout",
     "output_type": "stream",
     "text": [
      "(6, 2)\n",
      "Wall time: 199 ms\n"
     ]
    },
    {
     "data": {
      "text/html": [
       "<div>\n",
       "<style scoped>\n",
       "    .dataframe tbody tr th:only-of-type {\n",
       "        vertical-align: middle;\n",
       "    }\n",
       "\n",
       "    .dataframe tbody tr th {\n",
       "        vertical-align: top;\n",
       "    }\n",
       "\n",
       "    .dataframe thead th {\n",
       "        text-align: right;\n",
       "    }\n",
       "</style>\n",
       "<table border=\"1\" class=\"dataframe\">\n",
       "  <thead>\n",
       "    <tr style=\"text-align: right;\">\n",
       "      <th></th>\n",
       "      <th>year</th>\n",
       "      <th>count</th>\n",
       "    </tr>\n",
       "  </thead>\n",
       "  <tbody>\n",
       "    <tr>\n",
       "      <th>0</th>\n",
       "      <td>1939</td>\n",
       "      <td>1</td>\n",
       "    </tr>\n",
       "    <tr>\n",
       "      <th>1</th>\n",
       "      <td>1999</td>\n",
       "      <td>1</td>\n",
       "    </tr>\n",
       "    <tr>\n",
       "      <th>2</th>\n",
       "      <td>2000</td>\n",
       "      <td>1</td>\n",
       "    </tr>\n",
       "    <tr>\n",
       "      <th>3</th>\n",
       "      <td>2009</td>\n",
       "      <td>1</td>\n",
       "    </tr>\n",
       "    <tr>\n",
       "      <th>4</th>\n",
       "      <td>2012</td>\n",
       "      <td>1</td>\n",
       "    </tr>\n",
       "    <tr>\n",
       "      <th>5</th>\n",
       "      <td>2018</td>\n",
       "      <td>2</td>\n",
       "    </tr>\n",
       "  </tbody>\n",
       "</table>\n",
       "</div>"
      ],
      "text/plain": [
       "   year  count\n",
       "0  1939      1\n",
       "1  1999      1\n",
       "2  2000      1\n",
       "3  2009      1\n",
       "4  2012      1\n",
       "5  2018      2"
      ]
     },
     "execution_count": 9,
     "metadata": {},
     "output_type": "execute_result"
    }
   ],
   "source": [
    "%%time\n",
    "# Write your sql query below\n",
    "\n",
    "\"\"\"\n",
    "Filtering all the Movies with Male and Eliminating those to find the only female cast movies\n",
    "\"\"\"\n",
    "\n",
    "query = \"\"\"\n",
    "        WITH \n",
    "        FEMALE_ONLY_MOVIES AS (SELECT MC.MID FROM M_Cast MC INNER JOIN Person P ON P.PID = TRIM(MC.PID) WHERE P.Gender in ('Male','None', NULL))\n",
    "\n",
    "        SELECT M.\"year\", COUNT(*) AS 'count'\n",
    "        FROM Movie M\n",
    "        WHERE M.MID NOT IN FEMALE_ONLY_MOVIES\n",
    "        GROUP BY M.\"year\"\n",
    "        ORDER BY M.\"year\"\n",
    "        \"\"\"\n",
    "\n",
    "q5a = pd.read_sql_query(query, conn)    \n",
    "print(q5a.shape)\n",
    "q5a"
   ]
  },
  {
   "cell_type": "markdown",
   "metadata": {},
   "source": [
    "## Q5.b --- Now include a small change: report for each year the percentage of movies in that year with only female actors, and the total number of movies made that year. For example, one answer will be: 1990 31.81 13522 meaning that in 1990 there were 13,522 movies, and 31.81% had only female actors. You do not need to round your answer."
   ]
  },
  {
   "cell_type": "code",
   "execution_count": 10,
   "metadata": {},
   "outputs": [
    {
     "name": "stdout",
     "output_type": "stream",
     "text": [
      "(6, 4)\n",
      "Wall time: 203 ms\n"
     ]
    },
    {
     "data": {
      "text/html": [
       "<div>\n",
       "<style scoped>\n",
       "    .dataframe tbody tr th:only-of-type {\n",
       "        vertical-align: middle;\n",
       "    }\n",
       "\n",
       "    .dataframe tbody tr th {\n",
       "        vertical-align: top;\n",
       "    }\n",
       "\n",
       "    .dataframe thead th {\n",
       "        text-align: right;\n",
       "    }\n",
       "</style>\n",
       "<table border=\"1\" class=\"dataframe\">\n",
       "  <thead>\n",
       "    <tr style=\"text-align: right;\">\n",
       "      <th></th>\n",
       "      <th>year</th>\n",
       "      <th>only_female_movies</th>\n",
       "      <th>total_movies</th>\n",
       "      <th>percent</th>\n",
       "    </tr>\n",
       "  </thead>\n",
       "  <tbody>\n",
       "    <tr>\n",
       "      <th>0</th>\n",
       "      <td>1939</td>\n",
       "      <td>1</td>\n",
       "      <td>2</td>\n",
       "      <td>50</td>\n",
       "    </tr>\n",
       "    <tr>\n",
       "      <th>1</th>\n",
       "      <td>1999</td>\n",
       "      <td>1</td>\n",
       "      <td>66</td>\n",
       "      <td>1</td>\n",
       "    </tr>\n",
       "    <tr>\n",
       "      <th>2</th>\n",
       "      <td>2000</td>\n",
       "      <td>1</td>\n",
       "      <td>64</td>\n",
       "      <td>1</td>\n",
       "    </tr>\n",
       "    <tr>\n",
       "      <th>3</th>\n",
       "      <td>2009</td>\n",
       "      <td>1</td>\n",
       "      <td>110</td>\n",
       "      <td>0</td>\n",
       "    </tr>\n",
       "    <tr>\n",
       "      <th>4</th>\n",
       "      <td>2012</td>\n",
       "      <td>1</td>\n",
       "      <td>111</td>\n",
       "      <td>0</td>\n",
       "    </tr>\n",
       "    <tr>\n",
       "      <th>5</th>\n",
       "      <td>2018</td>\n",
       "      <td>2</td>\n",
       "      <td>104</td>\n",
       "      <td>1</td>\n",
       "    </tr>\n",
       "  </tbody>\n",
       "</table>\n",
       "</div>"
      ],
      "text/plain": [
       "   year  only_female_movies  total_movies  percent\n",
       "0  1939                   1             2       50\n",
       "1  1999                   1            66        1\n",
       "2  2000                   1            64        1\n",
       "3  2009                   1           110        0\n",
       "4  2012                   1           111        0\n",
       "5  2018                   2           104        1"
      ]
     },
     "execution_count": 10,
     "metadata": {},
     "output_type": "execute_result"
    }
   ],
   "source": [
    "%%time\n",
    "# Write your sql query below\n",
    "\n",
    "\"\"\"\n",
    "1. Filtering all the Movies with Male and Eliminating those to find the only female cast movies\n",
    "2. Comparing the Female only movies with total movies made that particular year and its percentage\n",
    "\"\"\"\n",
    "\n",
    "query = \"\"\"\n",
    "        WITH \n",
    "        MALE_MOVIES AS (SELECT MC.MID FROM M_Cast MC INNER JOIN Person P ON P.PID = TRIM(MC.PID) WHERE P.Gender in ('Male','None', NULL)),\n",
    "        FEMALE_MOVIES AS (SELECT M.\"year\", COUNT(*) AS 'only_female_movies' FROM Movie M WHERE M.MID NOT IN MALE_MOVIES GROUP BY M.\"year\"),\n",
    "        ALL_YEARS AS (SELECT M.\"year\", COUNT(*) AS 'total_movies' FROM Movie as M GROUP BY M.\"year\")\n",
    "\n",
    "        SELECT FM.\"year\", FM.only_female_movies, AY.total_movies, FM.only_female_movies * 100 / AY.total_movies AS percent\n",
    "        FROM FEMALE_MOVIES FM \n",
    "        INNER JOIN ALL_YEARS AY ON FM.\"year\" = AY.\"year\"\n",
    "        GROUP BY FM.\"year\"\n",
    "        ORDER BY FM.\"year\"\n",
    "        \"\"\"\n",
    "\n",
    "q5b = pd.read_sql_query(query, conn)    \n",
    "print(q5b.shape)\n",
    "q5b"
   ]
  },
  {
   "cell_type": "markdown",
   "metadata": {},
   "source": [
    "## Q6 --- Find the film(s) with the largest cast. Return the movie title and the size of the cast. By \"cast size\" we mean the number of distinct actors that played in that movie: if an actor played multiple roles, or if it simply occurs multiple times in casts, we still count her/him only once."
   ]
  },
  {
   "cell_type": "code",
   "execution_count": 11,
   "metadata": {},
   "outputs": [
    {
     "name": "stdout",
     "output_type": "stream",
     "text": [
      "(1, 3)\n",
      "Wall time: 56.8 ms\n"
     ]
    },
    {
     "data": {
      "text/html": [
       "<div>\n",
       "<style scoped>\n",
       "    .dataframe tbody tr th:only-of-type {\n",
       "        vertical-align: middle;\n",
       "    }\n",
       "\n",
       "    .dataframe tbody tr th {\n",
       "        vertical-align: top;\n",
       "    }\n",
       "\n",
       "    .dataframe thead th {\n",
       "        text-align: right;\n",
       "    }\n",
       "</style>\n",
       "<table border=\"1\" class=\"dataframe\">\n",
       "  <thead>\n",
       "    <tr style=\"text-align: right;\">\n",
       "      <th></th>\n",
       "      <th>MID</th>\n",
       "      <th>title</th>\n",
       "      <th>CAST_SIZE</th>\n",
       "    </tr>\n",
       "  </thead>\n",
       "  <tbody>\n",
       "    <tr>\n",
       "      <th>0</th>\n",
       "      <td>tt5164214</td>\n",
       "      <td>Ocean's Eight</td>\n",
       "      <td>238</td>\n",
       "    </tr>\n",
       "  </tbody>\n",
       "</table>\n",
       "</div>"
      ],
      "text/plain": [
       "         MID          title  CAST_SIZE\n",
       "0  tt5164214  Ocean's Eight        238"
      ]
     },
     "execution_count": 11,
     "metadata": {},
     "output_type": "execute_result"
    }
   ],
   "source": [
    "%%time\n",
    "# Write your sql query below\n",
    "\n",
    "query = \"\"\"\n",
    "        WITH \n",
    "        LARGER_CAST AS (SELECT COUNT(*) AS CAST_COUNT, MID FROM M_Cast GROUP BY MID)\n",
    "        \n",
    "        SELECT LC.MID, M.TITLE, MAX(LC.CAST_COUNT) AS CAST_SIZE\n",
    "        FROM LARGER_CAST LC\n",
    "        JOIN Movie M ON M.MID = LC.MID \n",
    "        \"\"\"\n",
    "\n",
    "q6 = pd.read_sql_query(query, conn)    \n",
    "print(q6.shape)\n",
    "q6.head()"
   ]
  },
  {
   "cell_type": "markdown",
   "metadata": {},
   "source": [
    "## Q7 --- A decade is a sequence of 10 consecutive years. For example, say in your database you have movie information starting from 1965. Then the first decade is 1965, 1966, ..., 1974; the second one is 1967, 1968, ..., 1976 and so on. Find the decade D with the largest number of films and the total number of films in D."
   ]
  },
  {
   "cell_type": "code",
   "execution_count": 12,
   "metadata": {},
   "outputs": [
    {
     "name": "stdout",
     "output_type": "stream",
     "text": [
      "(1, 3)\n",
      "Wall time: 105 ms\n"
     ]
    },
    {
     "data": {
      "text/html": [
       "<div>\n",
       "<style scoped>\n",
       "    .dataframe tbody tr th:only-of-type {\n",
       "        vertical-align: middle;\n",
       "    }\n",
       "\n",
       "    .dataframe tbody tr th {\n",
       "        vertical-align: top;\n",
       "    }\n",
       "\n",
       "    .dataframe thead th {\n",
       "        text-align: right;\n",
       "    }\n",
       "</style>\n",
       "<table border=\"1\" class=\"dataframe\">\n",
       "  <thead>\n",
       "    <tr style=\"text-align: right;\">\n",
       "      <th></th>\n",
       "      <th>START</th>\n",
       "      <th>END</th>\n",
       "      <th>COUNT(*)</th>\n",
       "    </tr>\n",
       "  </thead>\n",
       "  <tbody>\n",
       "    <tr>\n",
       "      <th>0</th>\n",
       "      <td>2008</td>\n",
       "      <td>2017</td>\n",
       "      <td>1205</td>\n",
       "    </tr>\n",
       "  </tbody>\n",
       "</table>\n",
       "</div>"
      ],
      "text/plain": [
       "  START   END  COUNT(*)\n",
       "0  2008  2017      1205"
      ]
     },
     "execution_count": 12,
     "metadata": {},
     "output_type": "execute_result"
    }
   ],
   "source": [
    "%%time\n",
    "# Write your sql query below\n",
    "\n",
    "\"\"\"\n",
    "1. Filtering the Distinct year from movie table\n",
    "2. Adding +9 year to all unique year to find the decades largest produced movies\n",
    "\"\"\"\n",
    "\n",
    "query = \"\"\"\n",
    "        WITH \n",
    "        UNIQUE_YEAR AS (SELECT DISTINCT \"year\" FROM Movie)\n",
    "        \n",
    "        SELECT D.\"year\" AS START, D.\"year\"+9 AS END, COUNT(*)  \n",
    "        FROM UNIQUE_YEAR D\n",
    "        JOIN Movie M on M.\"year\" >= START AND M.\"year\"<= END\n",
    "        GROUP BY END \n",
    "        ORDER BY COUNT(*) DESC \n",
    "        LIMIT 1\n",
    "        \"\"\"\n",
    "\n",
    "q7 = pd.read_sql_query(query, conn)    \n",
    "print(q7.shape)\n",
    "q7.head()"
   ]
  },
  {
   "cell_type": "markdown",
   "metadata": {},
   "source": [
    "## Q8 --- Find all the actors that made more movies with Yash Chopra than any other director."
   ]
  },
  {
   "cell_type": "code",
   "execution_count": 13,
   "metadata": {},
   "outputs": [
    {
     "name": "stdout",
     "output_type": "stream",
     "text": [
      "(430, 2)\n",
      "Wall time: 467 ms\n"
     ]
    },
    {
     "data": {
      "text/html": [
       "<div>\n",
       "<style scoped>\n",
       "    .dataframe tbody tr th:only-of-type {\n",
       "        vertical-align: middle;\n",
       "    }\n",
       "\n",
       "    .dataframe tbody tr th {\n",
       "        vertical-align: top;\n",
       "    }\n",
       "\n",
       "    .dataframe thead th {\n",
       "        text-align: right;\n",
       "    }\n",
       "</style>\n",
       "<table border=\"1\" class=\"dataframe\">\n",
       "  <thead>\n",
       "    <tr style=\"text-align: right;\">\n",
       "      <th></th>\n",
       "      <th>ACTOR_NAME</th>\n",
       "      <th>YASH_CHOPRA_DIRECTED_MOVIES</th>\n",
       "    </tr>\n",
       "  </thead>\n",
       "  <tbody>\n",
       "    <tr>\n",
       "      <th>0</th>\n",
       "      <td>Jagdish Raj</td>\n",
       "      <td>11</td>\n",
       "    </tr>\n",
       "    <tr>\n",
       "      <th>1</th>\n",
       "      <td>Manmohan Krishna</td>\n",
       "      <td>10</td>\n",
       "    </tr>\n",
       "    <tr>\n",
       "      <th>2</th>\n",
       "      <td>Iftekhar</td>\n",
       "      <td>9</td>\n",
       "    </tr>\n",
       "    <tr>\n",
       "      <th>3</th>\n",
       "      <td>Madan Puri</td>\n",
       "      <td>8</td>\n",
       "    </tr>\n",
       "    <tr>\n",
       "      <th>4</th>\n",
       "      <td>Vikas Anand</td>\n",
       "      <td>8</td>\n",
       "    </tr>\n",
       "  </tbody>\n",
       "</table>\n",
       "</div>"
      ],
      "text/plain": [
       "         ACTOR_NAME  YASH_CHOPRA_DIRECTED_MOVIES\n",
       "0       Jagdish Raj                           11\n",
       "1  Manmohan Krishna                           10\n",
       "2          Iftekhar                            9\n",
       "3        Madan Puri                            8\n",
       "4       Vikas Anand                            8"
      ]
     },
     "execution_count": 13,
     "metadata": {},
     "output_type": "execute_result"
    }
   ],
   "source": [
    "%%time\n",
    "# Write your sql query below\n",
    "\n",
    "\"\"\"\n",
    "Filter the all actors that made more movies with Yash Chopra than any other\n",
    "\"\"\"\n",
    "\n",
    "query = \"\"\"\n",
    "        SELECT TRIM(P.Name) AS ACTOR_NAME, COUNT(DISTINCT M.MID) AS YASH_CHOPRA_DIRECTED_MOVIES\n",
    "        FROM Person P \n",
    "        JOIN M_Cast MC ON TRIM(MC.PID) = P.PID \n",
    "        JOIN Movie M ON M.MID = MC.MID \n",
    "        JOIN M_Director MD ON MD.MID = M.MID \n",
    "        JOIN Person P1 ON P1.PID = TRIM(MD.PID)\n",
    "        WHERE TRIM(P1.Name) = 'Yash Chopra'\n",
    "        GROUP BY TRIM(P.PID)\n",
    "        ORDER BY COUNT(DISTINCT M.MID) DESC\n",
    "        \"\"\"\n",
    "\n",
    "q8 = pd.read_sql_query(query, conn)    \n",
    "print(q8.shape)\n",
    "q8.head()"
   ]
  },
  {
   "cell_type": "markdown",
   "metadata": {},
   "source": [
    "## Q9 --- The Shahrukh number of an actor is the length of the shortest path between the actor and Shahrukh Khan in the \"co-acting\" graph. That is, Shahrukh Khan has Shahrukh number 0; all actors who acted in the same film as Shahrukh have Shahrukh number 1; all actors who acted in the same film as some actor with Shahrukh number 1 have Shahrukh number 2, etc. Return all actors whose Shahrukh number is 2."
   ]
  },
  {
   "cell_type": "code",
   "execution_count": 14,
   "metadata": {},
   "outputs": [
    {
     "name": "stdout",
     "output_type": "stream",
     "text": [
      "(535, 4)\n",
      "Wall time: 645 ms\n"
     ]
    },
    {
     "data": {
      "text/html": [
       "<div>\n",
       "<style scoped>\n",
       "    .dataframe tbody tr th:only-of-type {\n",
       "        vertical-align: middle;\n",
       "    }\n",
       "\n",
       "    .dataframe tbody tr th {\n",
       "        vertical-align: top;\n",
       "    }\n",
       "\n",
       "    .dataframe thead th {\n",
       "        text-align: right;\n",
       "    }\n",
       "</style>\n",
       "<table border=\"1\" class=\"dataframe\">\n",
       "  <thead>\n",
       "    <tr style=\"text-align: right;\">\n",
       "      <th></th>\n",
       "      <th>MID</th>\n",
       "      <th>title</th>\n",
       "      <th>cast_number</th>\n",
       "      <th>Name</th>\n",
       "    </tr>\n",
       "  </thead>\n",
       "  <tbody>\n",
       "    <tr>\n",
       "      <th>0</th>\n",
       "      <td>tt0107321</td>\n",
       "      <td>King Uncle</td>\n",
       "      <td>1</td>\n",
       "      <td>Jackie Shroff</td>\n",
       "    </tr>\n",
       "    <tr>\n",
       "      <th>1</th>\n",
       "      <td>tt0107321</td>\n",
       "      <td>King Uncle</td>\n",
       "      <td>2</td>\n",
       "      <td>Shah Rukh Khan</td>\n",
       "    </tr>\n",
       "    <tr>\n",
       "      <th>2</th>\n",
       "      <td>tt0107321</td>\n",
       "      <td>King Uncle</td>\n",
       "      <td>3</td>\n",
       "      <td>Nagma</td>\n",
       "    </tr>\n",
       "    <tr>\n",
       "      <th>3</th>\n",
       "      <td>tt0107321</td>\n",
       "      <td>King Uncle</td>\n",
       "      <td>4</td>\n",
       "      <td>Sushmita Mukherjee</td>\n",
       "    </tr>\n",
       "    <tr>\n",
       "      <th>4</th>\n",
       "      <td>tt0107321</td>\n",
       "      <td>King Uncle</td>\n",
       "      <td>5</td>\n",
       "      <td>Deb Mukherjee</td>\n",
       "    </tr>\n",
       "  </tbody>\n",
       "</table>\n",
       "</div>"
      ],
      "text/plain": [
       "         MID       title  cast_number                Name\n",
       "0  tt0107321  King Uncle            1       Jackie Shroff\n",
       "1  tt0107321  King Uncle            2      Shah Rukh Khan\n",
       "2  tt0107321  King Uncle            3               Nagma\n",
       "3  tt0107321  King Uncle            4  Sushmita Mukherjee\n",
       "4  tt0107321  King Uncle            5       Deb Mukherjee"
      ]
     },
     "execution_count": 14,
     "metadata": {},
     "output_type": "execute_result"
    }
   ],
   "source": [
    "%%time\n",
    "# Write your sql query below\n",
    "\n",
    "\"\"\"\n",
    "1. Row_Number() function is used To identify the cast number/priority\n",
    "2. Filter the all actors whose Shah Rukh Khan number is 2\n",
    "\"\"\"\n",
    "\n",
    "query = \"\"\"\n",
    "        WITH \n",
    "        Shah_rukh_khan_index AS (SELECT  P.PID, MC.MID, P.Name, ROW_NUMBER() OVER (PARTITION BY MC.MID) AS ROW_NUM FROM  Person P JOIN M_Cast MC ON TRIM(MC.PID) = P.PID)\n",
    "\n",
    "        SELECT MC.MID, M.title, ROW_NUMBER() OVER (PARTITION BY MC.MID) AS 'cast_number', P.Name\n",
    "        FROM Person P \n",
    "        JOIN M_Cast MC ON TRIM(MC.PID) = P.PID \n",
    "        JOIN Movie M ON M.MID = TRIM(MC.MID)\n",
    "        WHERE M.MID IN (SELECT MID FROM Shah_rukh_khan_index WHERE Name LIKE '%Shah%Rukh%Khan%' and ROW_NUM = 2)\n",
    "        \"\"\"\n",
    "\n",
    "q9 = pd.read_sql_query(query, conn)    \n",
    "print(q9.shape)\n",
    "q9.head()"
   ]
  },
  {
   "cell_type": "code",
   "execution_count": null,
   "metadata": {},
   "outputs": [],
   "source": []
  }
 ],
 "metadata": {
  "kernelspec": {
   "display_name": "Python 3",
   "language": "python",
   "name": "python3"
  },
  "language_info": {
   "codemirror_mode": {
    "name": "ipython",
    "version": 3
   },
   "file_extension": ".py",
   "mimetype": "text/x-python",
   "name": "python",
   "nbconvert_exporter": "python",
   "pygments_lexer": "ipython3",
   "version": "3.7.6"
  }
 },
 "nbformat": 4,
 "nbformat_minor": 2
}
